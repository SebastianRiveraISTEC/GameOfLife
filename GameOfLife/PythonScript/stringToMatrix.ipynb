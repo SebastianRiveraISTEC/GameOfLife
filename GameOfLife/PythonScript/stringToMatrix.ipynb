{
 "cells": [
  {
   "cell_type": "code",
   "execution_count": 16,
   "id": "780b8ef2",
   "metadata": {},
   "outputs": [],
   "source": [
    "def matrxToSQL(matrix, name):\n",
    "    print(\"INSERT INTO Matrices (MatrixName, RowNo, ColNo, CellValue)VALUES\")\n",
    "    for i in range(len(matrix)):\n",
    "        for j in range(len(matrix[i])):\n",
    "            if(matrix[i][j] != 0):\n",
    "                print(\"('\"+name+\"'\"+\", \"+str(i)+\", \"+str(j)+\", \"+\"'alive'),\")\n",
    "                \n",
    "    print(\"INSERT INTO MatrixImages (Name, path)VALUES\")\n",
    "    print(\"('\" + name + \",\" + \"noimg.png)\")"
   ]
  },
  {
   "cell_type": "code",
   "execution_count": 11,
   "id": "d96f1f29",
   "metadata": {},
   "outputs": [],
   "source": [
    "\n",
    "def expandMatrix(matrix):\n",
    "    size = 102\n",
    "    smallRows = len(matrix)\n",
    "    smallCols = len(matrix[0])\n",
    "    newMatrix = [[0 for i in range(size)] for j in range(size)]\n",
    "    paddingleft = (size-smallCols)//2\n",
    "    paddingright = size-smallCols-paddingleft\n",
    "    paddingtop = (size-smallRows)//2\n",
    "    paddingbot = size-smallRows-paddingtop\n",
    "    \n",
    "    for i in range(smallRows):\n",
    "        for j in range(smallCols):\n",
    "            newMatrix[i + paddingtop][j + paddingleft] = matrix[i][j]\n",
    "\n",
    "    return newMatrix\n",
    "    \n",
    "    \n",
    "# expandMatrix(x)"
   ]
  },
  {
   "cell_type": "code",
   "execution_count": 12,
   "id": "b92b4c39",
   "metadata": {},
   "outputs": [
    {
     "data": {
      "text/plain": [
       "[[0, 0, 0, 0, 0, 0, 0, 0, 1, 1, 0, 0, 0],\n",
       " [0, 0, 0, 0, 0, 0, 0, 0, 1, 0, 0, 0, 0],\n",
       " [0, 0, 0, 0, 0, 0, 0, 0, 0, 1, 0, 0, 0],\n",
       " [0, 0, 0, 0, 0, 0, 0, 0, 1, 1, 0, 0, 0],\n",
       " [0, 0, 0, 0, 0, 0, 0, 0, 0, 0, 0, 0, 0],\n",
       " [0, 0, 0, 0, 0, 0, 0, 0, 0, 0, 0, 0, 0],\n",
       " [0, 0, 0, 0, 0, 0, 0, 0, 0, 0, 0, 0, 0],\n",
       " [0, 0, 0, 0, 0, 1, 0, 0, 0, 0, 0, 0, 0],\n",
       " [0, 0, 0, 0, 0, 1, 1, 0, 0, 0, 0, 0, 0],\n",
       " [1, 1, 0, 1, 0, 1, 0, 1, 1, 1, 0, 0, 0],\n",
       " [1, 0, 1, 1, 0, 1, 0, 1, 0, 1, 0, 0, 0],\n",
       " [0, 0, 0, 0, 0, 0, 1, 0, 0, 1, 1, 1, 0],\n",
       " [0, 0, 0, 0, 0, 0, 0, 1, 1, 0, 0, 0, 1],\n",
       " [0, 0, 0, 0, 0, 0, 0, 0, 0, 1, 1, 1, 0],\n",
       " [0, 0, 0, 0, 0, 0, 0, 0, 0, 1, 0, 0, 0]]"
      ]
     },
     "execution_count": 12,
     "metadata": {},
     "output_type": "execute_result"
    }
   ],
   "source": [
    "def stringToMatrx(x):\n",
    "    x = x.replace('\\t', '')\n",
    "    x = x.replace('.','0')\n",
    "    x = x.replace('O','1')\n",
    "    x = x.split(\"\\n\")\n",
    "    for i in range(len(x)):\n",
    "        x[i] = [int(j) for j in x[i]]\n",
    "    return x\n",
    "    \n",
    "a = '''........OO...\n",
    "\t........O....\n",
    "\t.........O...\n",
    "\t........OO...\n",
    "\t.............\n",
    "\t.............\n",
    "\t.............\n",
    "\t.....O.......\n",
    "\t.....OO......\n",
    "\tOO.O.O.OOO...\n",
    "\tO.OO.O.O.O...\n",
    "\t......O..OOO.\n",
    "\t.......OO...O\n",
    "\t.........OOO.\n",
    "\t.........O...'''\n",
    "\n",
    "a = a.replace('\\t', '')\n",
    "\n",
    "x = stringToMatrx(a)\n",
    "x"
   ]
  },
  {
   "cell_type": "code",
   "execution_count": 6,
   "id": "39f4f4f1",
   "metadata": {},
   "outputs": [],
   "source": [
    "x1 = [[0,0,0,0,0,0,0,0,0,0,0,0,0,0,0,0,0,0],\n",
    "     [0,0,0,0,0,0,0,0,0,0,0,0,0,0,0,0,0,0],\n",
    "     [0,0,0,0,0,0,0,0,0,0,0,0,0,0,0,0,0,0],\n",
    "     [0,0,0,0,0,0,0,0,0,0,0,0,0,0,0,0,0,0],\n",
    "     [0,0,0,0,0,0,0,0,0,0,0,0,0,0,0,0,0,0],\n",
    "     [0,0,0,0,0,0,0,0,0,0,0,0,0,0,0,0,0,0],\n",
    "     [0,0,0,0,0,0,0,0,0,0,0,0,0,0,0,0,0,0],\n",
    "     [0,0,0,0,0,0,0,0,0,0,0,0,0,0,0,0,0,0],\n",
    "     [0,0,0,0,0,0,0,0,0,0,0,0,0,0,0,0,0,0],\n",
    "     [0,0,0,0,0,0,0,0,0,0,0,0,0,0,0,0,0,0],\n",
    "     [0,0,0,0,0,0,0,0,0,0,0,0,0,0,0,0,0,0],\n",
    "     [0,0,0,0,0,0,0,0,0,0,0,0,0,0,0,0,0,0],\n",
    "     [0,0,0,0,0,0,0,0,0,0,0,0,0,0,0,0,0,0],\n",
    "     [0,0,0,0,0,0,0,0,0,0,0,0,0,0,0,0,0,0],\n",
    "     [0,0,0,0,0,0,0,0,0,0,0,0,0,0,0,0,0,0],\n",
    "     [0,0,0,0,0,0,0,0,0,0,0,0,0,0,0,0,0,0],\n",
    "     [0,0,0,0,0,0,0,0,0,0,0,0,0,0,0,0,0,0],\n",
    "     [0,0,0,0,0,0,0,0,0,0,0,0,0,0,0,0,0,0]\n",
    "    ]"
   ]
  },
  {
   "cell_type": "code",
   "execution_count": 7,
   "id": "d5e23c82",
   "metadata": {},
   "outputs": [
    {
     "name": "stdout",
     "output_type": "stream",
     "text": [
      "INSERT INTO Matrices (MatrixName, RowNo, ColNo, CellValue)VALUES\n",
      "('Rattlesnake', 43, 52, 'alive'),\n",
      "('Rattlesnake', 43, 53, 'alive'),\n",
      "('Rattlesnake', 44, 52, 'alive'),\n",
      "('Rattlesnake', 45, 53, 'alive'),\n",
      "('Rattlesnake', 46, 52, 'alive'),\n",
      "('Rattlesnake', 46, 53, 'alive'),\n",
      "('Rattlesnake', 50, 49, 'alive'),\n",
      "('Rattlesnake', 51, 49, 'alive'),\n",
      "('Rattlesnake', 51, 50, 'alive'),\n",
      "('Rattlesnake', 52, 44, 'alive'),\n",
      "('Rattlesnake', 52, 45, 'alive'),\n",
      "('Rattlesnake', 52, 47, 'alive'),\n",
      "('Rattlesnake', 52, 49, 'alive'),\n",
      "('Rattlesnake', 52, 51, 'alive'),\n",
      "('Rattlesnake', 52, 52, 'alive'),\n",
      "('Rattlesnake', 52, 53, 'alive'),\n",
      "('Rattlesnake', 53, 44, 'alive'),\n",
      "('Rattlesnake', 53, 46, 'alive'),\n",
      "('Rattlesnake', 53, 47, 'alive'),\n",
      "('Rattlesnake', 53, 49, 'alive'),\n",
      "('Rattlesnake', 53, 51, 'alive'),\n",
      "('Rattlesnake', 53, 53, 'alive'),\n",
      "('Rattlesnake', 54, 50, 'alive'),\n",
      "('Rattlesnake', 54, 53, 'alive'),\n",
      "('Rattlesnake', 54, 54, 'alive'),\n",
      "('Rattlesnake', 54, 55, 'alive'),\n",
      "('Rattlesnake', 55, 51, 'alive'),\n",
      "('Rattlesnake', 55, 52, 'alive'),\n",
      "('Rattlesnake', 55, 56, 'alive'),\n",
      "('Rattlesnake', 56, 53, 'alive'),\n",
      "('Rattlesnake', 56, 54, 'alive'),\n",
      "('Rattlesnake', 56, 55, 'alive'),\n",
      "('Rattlesnake', 57, 53, 'alive'),\n"
     ]
    }
   ],
   "source": [
    "x = expandMatrix(x)\n",
    "matrxToSQL(x,\"Rattlesnake\")"
   ]
  }
 ],
 "metadata": {
  "kernelspec": {
   "display_name": "Python 3 (ipykernel)",
   "language": "python",
   "name": "python3"
  },
  "language_info": {
   "codemirror_mode": {
    "name": "ipython",
    "version": 3
   },
   "file_extension": ".py",
   "mimetype": "text/x-python",
   "name": "python",
   "nbconvert_exporter": "python",
   "pygments_lexer": "ipython3",
   "version": "3.9.4"
  }
 },
 "nbformat": 4,
 "nbformat_minor": 5
}
