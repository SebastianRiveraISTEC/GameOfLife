{
 "cells": [
  {
   "cell_type": "code",
   "execution_count": 83,
   "id": "780b8ef2",
   "metadata": {},
   "outputs": [],
   "source": [
    "def matrxToSQL(matrix, name):\n",
    "    print(\"INSERT INTO Matrices (MatrixName, RowNo, ColNo, CellValue)VALUES\")\n",
    "    for i in range(len(matrix)):\n",
    "        for j in range(len(matrix[i])):\n",
    "            if(matrix[i][j] != 0):\n",
    "                print(\"('\"+name+\"'\"+\", \"+str(i)+\", \"+str(j)+\", \"+\"'alive'),\")"
   ]
  },
  {
   "cell_type": "code",
   "execution_count": 73,
   "id": "b92b4c39",
   "metadata": {},
   "outputs": [],
   "source": [
    "def stringToMatrx(x):\n",
    "    x = x.replace('.','0')\n",
    "    x = x.replace('O','1')\n",
    "    x = x.split(\"\\n\")\n",
    "    for i in range(len(x)):\n",
    "        x[i] = [int(j) for j in x[i]]\n",
    "    return x\n",
    "    \n",
    "a = '''......OO......\n",
    "......O.O.OO.O\n",
    "........O.O.OO\n",
    "........OO....\n",
    "..............\n",
    "..............\n",
    ".OOOOO.....OO.\n",
    "O....O.....OO.\n",
    ".....O........\n",
    "O...O.........\n",
    "..O...........'''\n",
    "\n",
    "x = stringToMatrx(a)"
   ]
  },
  {
   "cell_type": "code",
   "execution_count": 75,
   "id": "39f4f4f1",
   "metadata": {},
   "outputs": [],
   "source": [
    "x1 = [[0,0,0,0,0,0,0,0,0,0,0,0,0,0,0,0,0,0],\n",
    "     [0,0,0,0,0,0,0,0,0,0,0,0,0,0,0,0,0,0],\n",
    "     [0,0,0,0,0,0,0,0,0,0,0,0,0,0,0,0,0,0],\n",
    "     [0,0,0,0,0,0,0,0,0,0,0,0,0,0,0,0,0,0],\n",
    "     [0,0,0,0,0,0,0,0,0,0,0,0,0,0,0,0,0,0],\n",
    "     [0,0,0,0,0,0,0,0,0,0,0,0,0,0,0,0,0,0],\n",
    "     [0,0,0,0,0,0,0,0,0,0,0,0,0,0,0,0,0,0],\n",
    "     [0,0,0,0,0,0,0,0,0,0,0,0,0,0,0,0,0,0],\n",
    "     [0,0,0,0,0,0,0,0,0,0,0,0,0,0,0,0,0,0],\n",
    "     [0,0,0,0,0,0,0,0,0,0,0,0,0,0,0,0,0,0],\n",
    "     [0,0,0,0,0,0,0,0,0,0,0,0,0,0,0,0,0,0],\n",
    "     [0,0,0,0,0,0,0,0,0,0,0,0,0,0,0,0,0,0],\n",
    "     [0,0,0,0,0,0,0,0,0,0,0,0,0,0,0,0,0,0],\n",
    "     [0,0,0,0,0,0,0,0,0,0,0,0,0,0,0,0,0,0],\n",
    "     [0,0,0,0,0,0,0,0,0,0,0,0,0,0,0,0,0,0],\n",
    "     [0,0,0,0,0,0,0,0,0,0,0,0,0,0,0,0,0,0],\n",
    "     [0,0,0,0,0,0,0,0,0,0,0,0,0,0,0,0,0,0],\n",
    "     [0,0,0,0,0,0,0,0,0,0,0,0,0,0,0,0,0,0]\n",
    "    ]"
   ]
  },
  {
   "cell_type": "code",
   "execution_count": 84,
   "id": "d5e23c82",
   "metadata": {},
   "outputs": [
    {
     "name": "stdout",
     "output_type": "stream",
     "text": [
      "INSERT INTO Matrices (MatrixName, RowNo, ColNo, CellValue)VALUES\n",
      "('test', 0, 6, 'alive'),\n",
      "('test', 0, 7, 'alive'),\n",
      "('test', 1, 6, 'alive'),\n",
      "('test', 1, 8, 'alive'),\n",
      "('test', 1, 10, 'alive'),\n",
      "('test', 1, 11, 'alive'),\n",
      "('test', 1, 13, 'alive'),\n",
      "('test', 2, 8, 'alive'),\n",
      "('test', 2, 10, 'alive'),\n",
      "('test', 2, 12, 'alive'),\n",
      "('test', 2, 13, 'alive'),\n",
      "('test', 3, 8, 'alive'),\n",
      "('test', 3, 9, 'alive'),\n",
      "('test', 6, 1, 'alive'),\n",
      "('test', 6, 2, 'alive'),\n",
      "('test', 6, 3, 'alive'),\n",
      "('test', 6, 4, 'alive'),\n",
      "('test', 6, 5, 'alive'),\n",
      "('test', 6, 11, 'alive'),\n",
      "('test', 6, 12, 'alive'),\n",
      "('test', 7, 0, 'alive'),\n",
      "('test', 7, 5, 'alive'),\n",
      "('test', 7, 11, 'alive'),\n",
      "('test', 7, 12, 'alive'),\n",
      "('test', 8, 5, 'alive'),\n",
      "('test', 9, 0, 'alive'),\n",
      "('test', 9, 4, 'alive'),\n",
      "('test', 10, 2, 'alive'),\n"
     ]
    }
   ],
   "source": [
    "matrxToSQL(x,\"test\")"
   ]
  }
 ],
 "metadata": {
  "kernelspec": {
   "display_name": "Python 3 (ipykernel)",
   "language": "python",
   "name": "python3"
  },
  "language_info": {
   "codemirror_mode": {
    "name": "ipython",
    "version": 3
   },
   "file_extension": ".py",
   "mimetype": "text/x-python",
   "name": "python",
   "nbconvert_exporter": "python",
   "pygments_lexer": "ipython3",
   "version": "3.9.4"
  }
 },
 "nbformat": 4,
 "nbformat_minor": 5
}
